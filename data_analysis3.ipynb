{
 "cells": [
  {
   "cell_type": "code",
   "execution_count": 2,
   "metadata": {},
   "outputs": [],
   "source": [
    "import pandas as pd\n",
    "import numpy as np\n",
    "import matplotlib.pyplot as plt\n",
    "import seaborn as sns\n",
    "\n",
    "from sklearn.preprocessing import StandardScaler"
   ]
  },
  {
   "cell_type": "code",
   "execution_count": 3,
   "metadata": {},
   "outputs": [],
   "source": [
    "current_centres_data = pd.read_excel('data/data.xlsx', sheet_name='Current Centres')"
   ]
  },
  {
   "cell_type": "code",
   "execution_count": 4,
   "metadata": {},
   "outputs": [
    {
     "data": {
      "text/html": [
       "<div>\n",
       "<style scoped>\n",
       "    .dataframe tbody tr th:only-of-type {\n",
       "        vertical-align: middle;\n",
       "    }\n",
       "\n",
       "    .dataframe tbody tr th {\n",
       "        vertical-align: top;\n",
       "    }\n",
       "\n",
       "    .dataframe thead th {\n",
       "        text-align: right;\n",
       "    }\n",
       "</style>\n",
       "<table border=\"1\" class=\"dataframe\">\n",
       "  <thead>\n",
       "    <tr style=\"text-align: right;\">\n",
       "      <th></th>\n",
       "      <th>CENTRE_NO</th>\n",
       "      <th>TYRE_BAYS</th>\n",
       "      <th>MOT_BAYS</th>\n",
       "      <th>SERVICE_BAYS</th>\n",
       "      <th>TOTAL_STAFF</th>\n",
       "      <th>AVG_DAILY_STAFF</th>\n",
       "      <th>AVG_SALARY</th>\n",
       "      <th>HOURS_OPEN_PER_WEEK</th>\n",
       "      <th>AREA_EV_PERC</th>\n",
       "      <th>AREA_POPULATION_DENSITY_PPSKM</th>\n",
       "      <th>ANNUAL_RENT</th>\n",
       "      <th>AREA_AFFLUENCE_GRADE</th>\n",
       "      <th>ANNUAL_REVENUE</th>\n",
       "    </tr>\n",
       "  </thead>\n",
       "  <tbody>\n",
       "    <tr>\n",
       "      <th>0</th>\n",
       "      <td>223</td>\n",
       "      <td>4</td>\n",
       "      <td>0</td>\n",
       "      <td>1</td>\n",
       "      <td>7</td>\n",
       "      <td>4.8</td>\n",
       "      <td>27119</td>\n",
       "      <td>55.0</td>\n",
       "      <td>3.399573</td>\n",
       "      <td>6691.660592</td>\n",
       "      <td>43100</td>\n",
       "      <td>C</td>\n",
       "      <td>5.525422e+05</td>\n",
       "    </tr>\n",
       "    <tr>\n",
       "      <th>1</th>\n",
       "      <td>348</td>\n",
       "      <td>5</td>\n",
       "      <td>0</td>\n",
       "      <td>2</td>\n",
       "      <td>12</td>\n",
       "      <td>7.7</td>\n",
       "      <td>28152</td>\n",
       "      <td>52.5</td>\n",
       "      <td>4.842397</td>\n",
       "      <td>1325.129454</td>\n",
       "      <td>66400</td>\n",
       "      <td>C</td>\n",
       "      <td>1.072291e+06</td>\n",
       "    </tr>\n",
       "    <tr>\n",
       "      <th>2</th>\n",
       "      <td>68</td>\n",
       "      <td>3</td>\n",
       "      <td>0</td>\n",
       "      <td>2</td>\n",
       "      <td>8</td>\n",
       "      <td>6.3</td>\n",
       "      <td>29241</td>\n",
       "      <td>58.5</td>\n",
       "      <td>4.131909</td>\n",
       "      <td>3572.516731</td>\n",
       "      <td>40900</td>\n",
       "      <td>C</td>\n",
       "      <td>9.825545e+05</td>\n",
       "    </tr>\n",
       "    <tr>\n",
       "      <th>3</th>\n",
       "      <td>640</td>\n",
       "      <td>6</td>\n",
       "      <td>1</td>\n",
       "      <td>2</td>\n",
       "      <td>16</td>\n",
       "      <td>10.4</td>\n",
       "      <td>29346</td>\n",
       "      <td>58.5</td>\n",
       "      <td>3.687081</td>\n",
       "      <td>2701.672613</td>\n",
       "      <td>66700</td>\n",
       "      <td>D</td>\n",
       "      <td>1.763969e+06</td>\n",
       "    </tr>\n",
       "    <tr>\n",
       "      <th>4</th>\n",
       "      <td>967</td>\n",
       "      <td>6</td>\n",
       "      <td>1</td>\n",
       "      <td>2</td>\n",
       "      <td>14</td>\n",
       "      <td>9.4</td>\n",
       "      <td>29392</td>\n",
       "      <td>52.5</td>\n",
       "      <td>4.593888</td>\n",
       "      <td>1189.893236</td>\n",
       "      <td>106000</td>\n",
       "      <td>B</td>\n",
       "      <td>1.545497e+06</td>\n",
       "    </tr>\n",
       "  </tbody>\n",
       "</table>\n",
       "</div>"
      ],
      "text/plain": [
       "   CENTRE_NO  TYRE_BAYS  MOT_BAYS  SERVICE_BAYS  TOTAL_STAFF  AVG_DAILY_STAFF  \\\n",
       "0        223          4         0             1            7              4.8   \n",
       "1        348          5         0             2           12              7.7   \n",
       "2         68          3         0             2            8              6.3   \n",
       "3        640          6         1             2           16             10.4   \n",
       "4        967          6         1             2           14              9.4   \n",
       "\n",
       "   AVG_SALARY  HOURS_OPEN_PER_WEEK  AREA_EV_PERC  \\\n",
       "0       27119                 55.0      3.399573   \n",
       "1       28152                 52.5      4.842397   \n",
       "2       29241                 58.5      4.131909   \n",
       "3       29346                 58.5      3.687081   \n",
       "4       29392                 52.5      4.593888   \n",
       "\n",
       "   AREA_POPULATION_DENSITY_PPSKM  ANNUAL_RENT AREA_AFFLUENCE_GRADE  \\\n",
       "0                    6691.660592        43100                    C   \n",
       "1                    1325.129454        66400                    C   \n",
       "2                    3572.516731        40900                    C   \n",
       "3                    2701.672613        66700                    D   \n",
       "4                    1189.893236       106000                    B   \n",
       "\n",
       "   ANNUAL_REVENUE  \n",
       "0    5.525422e+05  \n",
       "1    1.072291e+06  \n",
       "2    9.825545e+05  \n",
       "3    1.763969e+06  \n",
       "4    1.545497e+06  "
      ]
     },
     "execution_count": 4,
     "metadata": {},
     "output_type": "execute_result"
    }
   ],
   "source": [
    "current_centres_data.head()"
   ]
  },
  {
   "cell_type": "code",
   "execution_count": 5,
   "metadata": {},
   "outputs": [
    {
     "name": "stdout",
     "output_type": "stream",
     "text": [
      "<class 'pandas.core.frame.DataFrame'>\n",
      "RangeIndex: 1006 entries, 0 to 1005\n",
      "Data columns (total 13 columns):\n",
      " #   Column                         Non-Null Count  Dtype  \n",
      "---  ------                         --------------  -----  \n",
      " 0   CENTRE_NO                      1006 non-null   int64  \n",
      " 1   TYRE_BAYS                      1006 non-null   int64  \n",
      " 2   MOT_BAYS                       1006 non-null   int64  \n",
      " 3   SERVICE_BAYS                   1006 non-null   int64  \n",
      " 4   TOTAL_STAFF                    1006 non-null   int64  \n",
      " 5   AVG_DAILY_STAFF                1006 non-null   float64\n",
      " 6   AVG_SALARY                     1006 non-null   int64  \n",
      " 7   HOURS_OPEN_PER_WEEK            1006 non-null   float64\n",
      " 8   AREA_EV_PERC                   994 non-null    float64\n",
      " 9   AREA_POPULATION_DENSITY_PPSKM  994 non-null    float64\n",
      " 10  ANNUAL_RENT                    1006 non-null   int64  \n",
      " 11  AREA_AFFLUENCE_GRADE           1006 non-null   object \n",
      " 12  ANNUAL_REVENUE                 1006 non-null   float64\n",
      "dtypes: float64(5), int64(7), object(1)\n",
      "memory usage: 102.3+ KB\n"
     ]
    }
   ],
   "source": [
    "current_centres_data.info()"
   ]
  },
  {
   "cell_type": "code",
   "execution_count": 6,
   "metadata": {},
   "outputs": [],
   "source": [
    "current_centres_data = current_centres_data.drop_duplicates()"
   ]
  },
  {
   "cell_type": "code",
   "execution_count": 7,
   "metadata": {},
   "outputs": [
    {
     "data": {
      "text/plain": [
       "(999, 13)"
      ]
     },
     "execution_count": 7,
     "metadata": {},
     "output_type": "execute_result"
    }
   ],
   "source": [
    "current_centres_data.shape"
   ]
  },
  {
   "cell_type": "code",
   "execution_count": 8,
   "metadata": {},
   "outputs": [
    {
     "data": {
      "text/plain": [
       "CENTRE_NO                         0\n",
       "TYRE_BAYS                         0\n",
       "MOT_BAYS                          0\n",
       "SERVICE_BAYS                      0\n",
       "TOTAL_STAFF                       0\n",
       "AVG_DAILY_STAFF                   0\n",
       "AVG_SALARY                        0\n",
       "HOURS_OPEN_PER_WEEK               0\n",
       "AREA_EV_PERC                     12\n",
       "AREA_POPULATION_DENSITY_PPSKM    12\n",
       "ANNUAL_RENT                       0\n",
       "AREA_AFFLUENCE_GRADE              0\n",
       "ANNUAL_REVENUE                    0\n",
       "dtype: int64"
      ]
     },
     "execution_count": 8,
     "metadata": {},
     "output_type": "execute_result"
    }
   ],
   "source": [
    "current_centres_data.isnull().sum()"
   ]
  },
  {
   "cell_type": "code",
   "execution_count": 9,
   "metadata": {},
   "outputs": [],
   "source": [
    "from sklearn.impute import KNNImputer"
   ]
  },
  {
   "cell_type": "code",
   "execution_count": 10,
   "metadata": {},
   "outputs": [
    {
     "data": {
      "text/plain": [
       "AREA_POPULATION_DENSITY_PPSKM    0\n",
       "AREA_EV_PERC                     0\n",
       "dtype: int64"
      ]
     },
     "execution_count": 10,
     "metadata": {},
     "output_type": "execute_result"
    }
   ],
   "source": [
    "imputer = KNNImputer(n_neighbors=2)\n",
    "\n",
    "columns_to_impute = [\"AREA_POPULATION_DENSITY_PPSKM\", \"AREA_EV_PERC\"]\n",
    "df_imputed = pd.DataFrame(imputer.fit_transform(current_centres_data[columns_to_impute]), \n",
    "                          columns=columns_to_impute)\n",
    "\n",
    "df_imputed.isnull().sum()"
   ]
  },
  {
   "cell_type": "code",
   "execution_count": 11,
   "metadata": {},
   "outputs": [
    {
     "data": {
      "text/plain": [
       "CENTRE_NO                        0\n",
       "TYRE_BAYS                        0\n",
       "MOT_BAYS                         0\n",
       "SERVICE_BAYS                     0\n",
       "TOTAL_STAFF                      0\n",
       "AVG_DAILY_STAFF                  0\n",
       "AVG_SALARY                       0\n",
       "HOURS_OPEN_PER_WEEK              0\n",
       "AREA_EV_PERC                     0\n",
       "AREA_POPULATION_DENSITY_PPSKM    0\n",
       "ANNUAL_RENT                      0\n",
       "AREA_AFFLUENCE_GRADE             0\n",
       "ANNUAL_REVENUE                   0\n",
       "dtype: int64"
      ]
     },
     "execution_count": 11,
     "metadata": {},
     "output_type": "execute_result"
    }
   ],
   "source": [
    "current_centres_data[columns_to_impute] = df_imputed\n",
    "current_centres_data.isnull().sum()"
   ]
  },
  {
   "cell_type": "code",
   "execution_count": 12,
   "metadata": {},
   "outputs": [],
   "source": [
    "encoding_map = {\n",
    "    \"A\": 1, \"B\": 2, \"C\": 3, \"D\": 4, \"E\": 5, \"F\": 6\n",
    "}\n",
    "current_centres_data[\"AREA_AFFLUENCE_GRADE\"] = current_centres_data[\"AREA_AFFLUENCE_GRADE\"].map(encoding_map)"
   ]
  },
  {
   "cell_type": "code",
   "execution_count": 13,
   "metadata": {},
   "outputs": [
    {
     "data": {
      "text/plain": [
       "CENTRE_NO                        0.000000\n",
       "TYRE_BAYS                        0.029361\n",
       "MOT_BAYS                         0.014035\n",
       "SERVICE_BAYS                    -0.078255\n",
       "TOTAL_STAFF                      0.133496\n",
       "AVG_DAILY_STAFF                  0.326762\n",
       "AVG_SALARY                       0.043697\n",
       "HOURS_OPEN_PER_WEEK              0.063106\n",
       "AREA_EV_PERC                    -0.173436\n",
       "AREA_POPULATION_DENSITY_PPSKM    1.910603\n",
       "ANNUAL_RENT                      0.750094\n",
       "AREA_AFFLUENCE_GRADE             0.104165\n",
       "ANNUAL_REVENUE                   1.112715\n",
       "dtype: float64"
      ]
     },
     "execution_count": 13,
     "metadata": {},
     "output_type": "execute_result"
    }
   ],
   "source": [
    "current_centres_data.skew()"
   ]
  },
  {
   "cell_type": "code",
   "execution_count": 14,
   "metadata": {},
   "outputs": [
    {
     "data": {
      "image/png": "[encoded data removed]",
      "text/plain": [
       "<Figure size 640x480 with 1 Axes>"
      ]
     },
     "metadata": {},
     "output_type": "display_data"
    }
   ],
   "source": [
    "sns.histplot(current_centres_data[\"ANNUAL_REVENUE\"])\n",
    "plt.show()"
   ]
  },
  {
   "cell_type": "code",
   "execution_count": 15,
   "metadata": {},
   "outputs": [
    {
     "data": {
      "text/plain": [
       "(8, 13)"
      ]
     },
     "execution_count": 15,
     "metadata": {},
     "output_type": "execute_result"
    }
   ],
   "source": [
    "current_centres_data[current_centres_data[\"ANNUAL_REVENUE\"] > 2.5e6].shape"
   ]
  },
  {
   "cell_type": "code",
   "execution_count": 16,
   "metadata": {},
   "outputs": [],
   "source": [
    "current_centres_data = current_centres_data[current_centres_data[\"ANNUAL_REVENUE\"] < 2.5e6]"
   ]
  },
  {
   "cell_type": "code",
   "execution_count": 17,
   "metadata": {},
   "outputs": [
    {
     "data": {
      "text/plain": [
       "CENTRE_NO                        0.005227\n",
       "TYRE_BAYS                        0.031152\n",
       "MOT_BAYS                         0.030322\n",
       "SERVICE_BAYS                    -0.062689\n",
       "TOTAL_STAFF                      0.105771\n",
       "AVG_DAILY_STAFF                  0.336328\n",
       "AVG_SALARY                       0.041751\n",
       "HOURS_OPEN_PER_WEEK              0.076191\n",
       "AREA_EV_PERC                    -0.164613\n",
       "AREA_POPULATION_DENSITY_PPSKM    1.920601\n",
       "ANNUAL_RENT                      0.738602\n",
       "AREA_AFFLUENCE_GRADE             0.102756\n",
       "ANNUAL_REVENUE                   0.851631\n",
       "dtype: float64"
      ]
     },
     "execution_count": 17,
     "metadata": {},
     "output_type": "execute_result"
    }
   ],
   "source": [
    "current_centres_data.skew()"
   ]
  },
  {
   "cell_type": "code",
   "execution_count": 18,
   "metadata": {},
   "outputs": [
    {
     "data": {
      "text/plain": [
       "Index(['TYRE_BAYS', 'MOT_BAYS', 'SERVICE_BAYS', 'TOTAL_STAFF',\n",
       "       'AVG_DAILY_STAFF', 'AVG_SALARY', 'HOURS_OPEN_PER_WEEK', 'AREA_EV_PERC',\n",
       "       'AREA_POPULATION_DENSITY_PPSKM', 'ANNUAL_RENT', 'AREA_AFFLUENCE_GRADE'],\n",
       "      dtype='object')"
      ]
     },
     "execution_count": 18,
     "metadata": {},
     "output_type": "execute_result"
    }
   ],
   "source": [
    "columns_to_treat_outliers = current_centres_data.columns[1:-1]\n",
    "columns_to_treat_outliers"
   ]
  },
  {
   "cell_type": "code",
   "execution_count": 19,
   "metadata": {},
   "outputs": [],
   "source": [
    "def remove_outliers(column):\n",
    "    Q1 = column.quantile(0.25)\n",
    "    Q3 = column.quantile(0.75)\n",
    "    IQR = Q3 - Q1\n",
    "    lower_bound = Q1 - 1.5 * IQR\n",
    "    upper_bound = Q3 + 1.5 * IQR\n",
    "    column[column < lower_bound] = lower_bound\n",
    "    column[column > upper_bound] = upper_bound\n",
    "    return column"
   ]
  },
  {
   "cell_type": "code",
   "execution_count": 20,
   "metadata": {},
   "outputs": [],
   "source": [
    "new_df = current_centres_data.copy()"
   ]
  },
  {
   "cell_type": "code",
   "execution_count": 21,
   "metadata": {},
   "outputs": [
    {
     "name": "stderr",
     "output_type": "stream",
     "text": [
      "C:\\Users\\princ\\AppData\\Local\\Temp\\ipykernel_23232\\701915929.py:7: FutureWarning: Setting an item of incompatible dtype is deprecated and will raise in a future error of pandas. Value '25057.25' has dtype incompatible with int64, please explicitly cast to a compatible dtype first.\n",
      "  column[column < lower_bound] = lower_bound\n",
      "C:\\Users\\princ\\AppData\\Local\\Temp\\ipykernel_23232\\701915929.py:7: FutureWarning: Setting an item of incompatible dtype is deprecated and will raise in a future error of pandas. Value '1.5' has dtype incompatible with int64, please explicitly cast to a compatible dtype first.\n",
      "  column[column < lower_bound] = lower_bound\n"
     ]
    },
    {
     "data": {
      "text/plain": [
       "CENTRE_NO                        0.005227\n",
       "TYRE_BAYS                        0.031152\n",
       "MOT_BAYS                         0.030322\n",
       "SERVICE_BAYS                    -0.062689\n",
       "TOTAL_STAFF                      0.076611\n",
       "AVG_DAILY_STAFF                  0.299959\n",
       "AVG_SALARY                       0.006018\n",
       "HOURS_OPEN_PER_WEEK              0.076191\n",
       "AREA_EV_PERC                    -0.084025\n",
       "AREA_POPULATION_DENSITY_PPSKM    0.958384\n",
       "ANNUAL_RENT                      0.458318\n",
       "AREA_AFFLUENCE_GRADE             0.067382\n",
       "ANNUAL_REVENUE                   0.851631\n",
       "dtype: float64"
      ]
     },
     "execution_count": 21,
     "metadata": {},
     "output_type": "execute_result"
    }
   ],
   "source": [
    "new_df[columns_to_treat_outliers] = new_df[columns_to_treat_outliers].apply(remove_outliers, axis=0)\n",
    "new_df.skew()"
   ]
  },
  {
   "cell_type": "code",
   "execution_count": 22,
   "metadata": {},
   "outputs": [],
   "source": [
    "from sklearn.preprocessing import StandardScaler\n",
    "from sklearn.model_selection import train_test_split, KFold, cross_val_score\n",
    "from sklearn.linear_model import LinearRegression, Lasso, Ridge, ElasticNet\n",
    "from sklearn.tree import DecisionTreeRegressor\n",
    "from sklearn.ensemble import RandomForestRegressor, GradientBoostingRegressor\n",
    "from sklearn.svm import SVR\n",
    "from sklearn.neighbors import KNeighborsRegressor\n",
    "from sklearn.metrics import root_mean_squared_error, mean_absolute_error, r2_score"
   ]
  },
  {
   "cell_type": "code",
   "execution_count": 23,
   "metadata": {},
   "outputs": [
    {
     "data": {
      "text/plain": [
       "((991, 11), (991,))"
      ]
     },
     "execution_count": 23,
     "metadata": {},
     "output_type": "execute_result"
    }
   ],
   "source": [
    "scaler = StandardScaler()\n",
    "x_data = scaler.fit_transform(new_df[columns_to_treat_outliers])\n",
    "x_data = pd.DataFrame(x_data, columns=columns_to_treat_outliers)\n",
    "y_data = new_df[\"ANNUAL_REVENUE\"]\n",
    "\n",
    "x_data.shape, y_data.shape"
   ]
  },
  {
   "cell_type": "code",
   "execution_count": 24,
   "metadata": {},
   "outputs": [],
   "source": [
    "x_train, x_test, y_train, y_test = train_test_split(x_data, y_data, test_size=0.2, random_state=42)"
   ]
  },
  {
   "cell_type": "code",
   "execution_count": 25,
   "metadata": {},
   "outputs": [],
   "source": [
    "models_list = {\n",
    "    \"Linear Regression\": LinearRegression(),\n",
    "    \"Lasso\": Lasso(),\n",
    "    \"Ridge\": Ridge(),\n",
    "    \"Elastic Net\": ElasticNet(),\n",
    "    \"Decision Tree\": DecisionTreeRegressor(),\n",
    "    \"Random Forest\": RandomForestRegressor(),\n",
    "    \"Gradient Boosting\": GradientBoostingRegressor(),\n",
    "    \"SVM\": SVR(),\n",
    "    \"KNN\": KNeighborsRegressor()\n",
    "} # all are set to default hyperparameters\n",
    "\n",
    "def model_selection(models, x, y):\n",
    "    results = {}\n",
    "    for model_name, model in models.items():\n",
    "        kfold = KFold(n_splits=10, shuffle=True, random_state=42)\n",
    "        cv_results = cross_val_score(model, x, y, cv=kfold, scoring='neg_mean_squared_error')\n",
    "        results[model_name] = np.median(np.sqrt(np.abs(cv_results))) # medianRMSE\n",
    "    return results\n",
    "\n",
    "results = model_selection(models_list, x_data, y_data)"
   ]
  },
  {
   "cell_type": "code",
   "execution_count": 26,
   "metadata": {},
   "outputs": [
    {
     "data": {
      "text/plain": [
       "[('Gradient Boosting', 194624.08827421523),\n",
       " ('Ridge', 204838.91855575616),\n",
       " ('Lasso', 205013.40182966558),\n",
       " ('Linear Regression', 205014.7091973662),\n",
       " ('Random Forest', 209077.20803576816),\n",
       " ('Elastic Net', 218992.2128394802),\n",
       " ('KNN', 219450.86848698917),\n",
       " ('Decision Tree', 303107.38739159843),\n",
       " ('SVM', 393127.0218861089)]"
      ]
     },
     "execution_count": 26,
     "metadata": {},
     "output_type": "execute_result"
    }
   ],
   "source": [
    "sorted(results.items(), key=lambda x: x[1])"
   ]
  },
  {
   "cell_type": "code",
   "execution_count": 27,
   "metadata": {},
   "outputs": [],
   "source": [
    "from sklearn.model_selection import GridSearchCV"
   ]
  },
  {
   "cell_type": "code",
   "execution_count": 28,
   "metadata": {},
   "outputs": [],
   "source": [
    "np.random.seed(42)"
   ]
  },
  {
   "cell_type": "code",
   "execution_count": 29,
   "metadata": {},
   "outputs": [
    {
     "name": "stdout",
     "output_type": "stream",
     "text": [
      "Fitting 5 folds for each of 162 candidates, totalling 810 fits\n",
      "Best Parameters: {'learning_rate': 0.1, 'max_depth': 3, 'min_samples_leaf': 2, 'min_samples_split': 5, 'n_estimators': 100}\n",
      "Best Cross-Validation Score (MAE): 173072.84276166995\n"
     ]
    }
   ],
   "source": [
    "def model_tuning(X, y):\n",
    "    X_train, X_test, y_train, y_test = train_test_split(X, y, test_size=0.2, random_state=42)\n",
    "\n",
    "    # Define the model\n",
    "    gbr = GradientBoostingRegressor()\n",
    "\n",
    "    # Define the parameter grid\n",
    "    param_grid = {\n",
    "        'n_estimators': [100, 200],\n",
    "        'learning_rate': [0.01, 0.1, 0.2],\n",
    "        'max_depth': [3, 4, 5],\n",
    "        'min_samples_split': [2, 5, 10],\n",
    "        'min_samples_leaf': [1, 2, 4]\n",
    "    }\n",
    "\n",
    "    # Set up K-Fold cross-validation\n",
    "    kf = KFold(n_splits=5, shuffle=True, random_state=42)\n",
    "\n",
    "    # Set up the grid search with K-Fold cross-validation\n",
    "    grid_search = GridSearchCV(estimator=gbr, param_grid=param_grid, \n",
    "                            scoring='neg_mean_absolute_error', \n",
    "                            cv=kf, n_jobs=-1, verbose=1)\n",
    "\n",
    "    # Fit the grid search to the data\n",
    "    grid_search.fit(X_train, y_train)\n",
    "\n",
    "    # Get the best parameters and best score\n",
    "    best_params = grid_search.best_params_\n",
    "    best_score = grid_search.best_score_\n",
    "\n",
    "    print(\"Best Parameters:\", best_params)\n",
    "    print(\"Best Cross-Validation Score (MAE):\", -best_score)\n",
    "\n",
    "    # Evaluate the best model on the test set\n",
    "    best_model = grid_search.best_estimator_\n",
    "    y_pred = best_model.predict(X_test)\n",
    "\n",
    "    results = {\n",
    "        \"RMSE\": root_mean_squared_error(y_test, y_pred),\n",
    "        \"MAE\": mean_absolute_error(y_test, y_pred),\n",
    "        \"R2\": r2_score(y_test, y_pred),\n",
    "        \"model\": gbr\n",
    "    }\n",
    "    return results\n",
    "\n",
    "results = model_tuning(x_test, y_test)"
   ]
  },
  {
   "cell_type": "code",
   "execution_count": 30,
   "metadata": {},
   "outputs": [
    {
     "data": {
      "text/plain": [
       "{'RMSE': 216743.61547136924,\n",
       " 'MAE': 166102.10034086058,\n",
       " 'R2': 0.6985734504076805,\n",
       " 'model': GradientBoostingRegressor()}"
      ]
     },
     "execution_count": 30,
     "metadata": {},
     "output_type": "execute_result"
    }
   ],
   "source": [
    "results"
   ]
  },
  {
   "cell_type": "code",
   "execution_count": 31,
   "metadata": {},
   "outputs": [],
   "source": [
    "def model_feature_selection(x_data, y_data): \n",
    "    model = GradientBoostingRegressor(\n",
    "        n_estimators=100, \n",
    "        random_state=42,\n",
    "        learning_rate=0.1,\n",
    "        max_depth=3,\n",
    "        min_samples_leaf=2,\n",
    "        min_samples_split=5\n",
    "    ) #hyper parameters from previous tuning\n",
    "    # Fit the model to the training data\n",
    "    model.fit(x_data, y_data)\n",
    "    importances = model.feature_importances_\n",
    "\n",
    "    feature_importance_df = pd.DataFrame({\n",
    "        'Feature': range(x_data.shape[1]),\n",
    "        'Importance': importances\n",
    "    })\n",
    "\n",
    "    # Sort the features by importance\n",
    "    feature_importance_df = feature_importance_df.sort_values(by='Importance', ascending=False)\n",
    "    print(feature_importance_df)\n",
    "\n",
    "    # Select the top N features (e.g., top 10)\n",
    "    top_n = 5\n",
    "    top_features = feature_importance_df.head(top_n)['Feature'].values\n",
    "\n",
    "    # Create a new dataset with only the selected features\n",
    "    subset_columns = x_data.columns[top_features]\n",
    "    return subset_columns.values"
   ]
  },
  {
   "cell_type": "code",
   "execution_count": 32,
   "metadata": {},
   "outputs": [
    {
     "name": "stdout",
     "output_type": "stream",
     "text": [
      "    Feature  Importance\n",
      "3         3    0.382995\n",
      "2         2    0.137062\n",
      "9         9    0.121883\n",
      "6         6    0.112692\n",
      "1         1    0.079856\n",
      "4         4    0.052022\n",
      "0         0    0.048148\n",
      "8         8    0.033373\n",
      "7         7    0.015975\n",
      "5         5    0.013536\n",
      "10       10    0.002457\n"
     ]
    },
    {
     "data": {
      "text/plain": [
       "array(['TOTAL_STAFF', 'SERVICE_BAYS', 'ANNUAL_RENT',\n",
       "       'HOURS_OPEN_PER_WEEK', 'MOT_BAYS'], dtype=object)"
      ]
     },
     "execution_count": 32,
     "metadata": {},
     "output_type": "execute_result"
    }
   ],
   "source": [
    "subset_x_data = model_feature_selection(x_data, y_data)\n",
    "subset_x_data"
   ]
  },
  {
   "cell_type": "code",
   "execution_count": 64,
   "metadata": {},
   "outputs": [],
   "source": [
    "x_train, x_test, y_train, y_test = train_test_split(x_data, y_data, shuffle=True, test_size=0.2, random_state=42)"
   ]
  },
  {
   "cell_type": "code",
   "execution_count": 65,
   "metadata": {},
   "outputs": [
    {
     "data": {
      "text/html": [
       "<style>#sk-container-id-2 {\n",
       "  /* Definition of color scheme common for light and dark mode */\n",
       "  --sklearn-color-text: black;\n",
       "  --sklearn-color-line: gray;\n",
       "  /* Definition of color scheme for unfitted estimators */\n",
       "  --sklearn-color-unfitted-level-0: #fff5e6;\n",
       "  --sklearn-color-unfitted-level-1: #f6e4d2;\n",
       "  --sklearn-color-unfitted-level-2: #ffe0b3;\n",
       "  --sklearn-color-unfitted-level-3: chocolate;\n",
       "  /* Definition of color scheme for fitted estimators */\n",
       "  --sklearn-color-fitted-level-0: #f0f8ff;\n",
       "  --sklearn-color-fitted-level-1: #d4ebff;\n",
       "  --sklearn-color-fitted-level-2: #b3dbfd;\n",
       "  --sklearn-color-fitted-level-3: cornflowerblue;\n",
       "\n",
       "  /* Specific color for light theme */\n",
       "  --sklearn-color-text-on-default-background: var(--sg-text-color, var(--theme-code-foreground, var(--jp-content-font-color1, black)));\n",
       "  --sklearn-color-background: var(--sg-background-color, var(--theme-background, var(--jp-layout-color0, white)));\n",
       "  --sklearn-color-border-box: var(--sg-text-color, var(--theme-code-foreground, var(--jp-content-font-color1, black)));\n",
       "  --sklearn-color-icon: #696969;\n",
       "\n",
       "  @media (prefers-color-scheme: dark) {\n",
       "    /* Redefinition of color scheme for dark theme */\n",
       "    --sklearn-color-text-on-default-background: var(--sg-text-color, var(--theme-code-foreground, var(--jp-content-font-color1, white)));\n",
       "    --sklearn-color-background: var(--sg-background-color, var(--theme-background, var(--jp-layout-color0, #111)));\n",
       "    --sklearn-color-border-box: var(--sg-text-color, var(--theme-code-foreground, var(--jp-content-font-color1, white)));\n",
       "    --sklearn-color-icon: #878787;\n",
       "  }\n",
       "}\n",
       "\n",
       "#sk-container-id-2 {\n",
       "  color: var(--sklearn-color-text);\n",
       "}\n",
       "\n",
       "#sk-container-id-2 pre {\n",
       "  padding: 0;\n",
       "}\n",
       "\n",
       "#sk-container-id-2 input.sk-hidden--visually {\n",
       "  border: 0;\n",
       "  clip: rect(1px 1px 1px 1px);\n",
       "  clip: rect(1px, 1px, 1px, 1px);\n",
       "  height: 1px;\n",
       "  margin: -1px;\n",
       "  overflow: hidden;\n",
       "  padding: 0;\n",
       "  position: absolute;\n",
       "  width: 1px;\n",
       "}\n",
       "\n",
       "#sk-container-id-2 div.sk-dashed-wrapped {\n",
       "  border: 1px dashed var(--sklearn-color-line);\n",
       "  margin: 0 0.4em 0.5em 0.4em;\n",
       "  box-sizing: border-box;\n",
       "  padding-bottom: 0.4em;\n",
       "  background-color: var(--sklearn-color-background);\n",
       "}\n",
       "\n",
       "#sk-container-id-2 div.sk-container {\n",
       "  /* jupyter's `normalize.less` sets `[hidden] { display: none; }`\n",
       "     but bootstrap.min.css set `[hidden] { display: none !important; }`\n",
       "     so we also need the `!important` here to be able to override the\n",
       "     default hidden behavior on the sphinx rendered scikit-learn.org.\n",
       "     See: https://github.com/scikit-learn/scikit-learn/issues/21755 */\n",
       "  display: inline-block !important;\n",
       "  position: relative;\n",
       "}\n",
       "\n",
       "#sk-container-id-2 div.sk-text-repr-fallback {\n",
       "  display: none;\n",
       "}\n",
       "\n",
       "div.sk-parallel-item,\n",
       "div.sk-serial,\n",
       "div.sk-item {\n",
       "  /* draw centered vertical line to link estimators */\n",
       "  background-image: linear-gradient(var(--sklearn-color-text-on-default-background), var(--sklearn-color-text-on-default-background));\n",
       "  background-size: 2px 100%;\n",
       "  background-repeat: no-repeat;\n",
       "  background-position: center center;\n",
       "}\n",
       "\n",
       "/* Parallel-specific style estimator block */\n",
       "\n",
       "#sk-container-id-2 div.sk-parallel-item::after {\n",
       "  content: \"\";\n",
       "  width: 100%;\n",
       "  border-bottom: 2px solid var(--sklearn-color-text-on-default-background);\n",
       "  flex-grow: 1;\n",
       "}\n",
       "\n",
       "#sk-container-id-2 div.sk-parallel {\n",
       "  display: flex;\n",
       "  align-items: stretch;\n",
       "  justify-content: center;\n",
       "  background-color: var(--sklearn-color-background);\n",
       "  position: relative;\n",
       "}\n",
       "\n",
       "#sk-container-id-2 div.sk-parallel-item {\n",
       "  display: flex;\n",
       "  flex-direction: column;\n",
       "}\n",
       "\n",
       "#sk-container-id-2 div.sk-parallel-item:first-child::after {\n",
       "  align-self: flex-end;\n",
       "  width: 50%;\n",
       "}\n",
       "\n",
       "#sk-container-id-2 div.sk-parallel-item:last-child::after {\n",
       "  align-self: flex-start;\n",
       "  width: 50%;\n",
       "}\n",
       "\n",
       "#sk-container-id-2 div.sk-parallel-item:only-child::after {\n",
       "  width: 0;\n",
       "}\n",
       "\n",
       "/* Serial-specific style estimator block */\n",
       "\n",
       "#sk-container-id-2 div.sk-serial {\n",
       "  display: flex;\n",
       "  flex-direction: column;\n",
       "  align-items: center;\n",
       "  background-color: var(--sklearn-color-background);\n",
       "  padding-right: 1em;\n",
       "  padding-left: 1em;\n",
       "}\n",
       "\n",
       "\n",
       "/* Toggleable style: style used for estimator/Pipeline/ColumnTransformer box that is\n",
       "clickable and can be expanded/collapsed.\n",
       "- Pipeline and ColumnTransformer use this feature and define the default style\n",
       "- Estimators will overwrite some part of the style using the `sk-estimator` class\n",
       "*/\n",
       "\n",
       "/* Pipeline and ColumnTransformer style (default) */\n",
       "\n",
       "#sk-container-id-2 div.sk-toggleable {\n",
       "  /* Default theme specific background. It is overwritten whether we have a\n",
       "  specific estimator or a Pipeline/ColumnTransformer */\n",
       "  background-color: var(--sklearn-color-background);\n",
       "}\n",
       "\n",
       "/* Toggleable label */\n",
       "#sk-container-id-2 label.sk-toggleable__label {\n",
       "  cursor: pointer;\n",
       "  display: block;\n",
       "  width: 100%;\n",
       "  margin-bottom: 0;\n",
       "  padding: 0.5em;\n",
       "  box-sizing: border-box;\n",
       "  text-align: center;\n",
       "}\n",
       "\n",
       "#sk-container-id-2 label.sk-toggleable__label-arrow:before {\n",
       "  /* Arrow on the left of the label */\n",
       "  content: \"▸\";\n",
       "  float: left;\n",
       "  margin-right: 0.25em;\n",
       "  color: var(--sklearn-color-icon);\n",
       "}\n",
       "\n",
       "#sk-container-id-2 label.sk-toggleable__label-arrow:hover:before {\n",
       "  color: var(--sklearn-color-text);\n",
       "}\n",
       "\n",
       "/* Toggleable content - dropdown */\n",
       "\n",
       "#sk-container-id-2 div.sk-toggleable__content {\n",
       "  max-height: 0;\n",
       "  max-width: 0;\n",
       "  overflow: hidden;\n",
       "  text-align: left;\n",
       "  /* unfitted */\n",
       "  background-color: var(--sklearn-color-unfitted-level-0);\n",
       "}\n",
       "\n",
       "#sk-container-id-2 div.sk-toggleable__content.fitted {\n",
       "  /* fitted */\n",
       "  background-color: var(--sklearn-color-fitted-level-0);\n",
       "}\n",
       "\n",
       "#sk-container-id-2 div.sk-toggleable__content pre {\n",
       "  margin: 0.2em;\n",
       "  border-radius: 0.25em;\n",
       "  color: var(--sklearn-color-text);\n",
       "  /* unfitted */\n",
       "  background-color: var(--sklearn-color-unfitted-level-0);\n",
       "}\n",
       "\n",
       "#sk-container-id-2 div.sk-toggleable__content.fitted pre {\n",
       "  /* unfitted */\n",
       "  background-color: var(--sklearn-color-fitted-level-0);\n",
       "}\n",
       "\n",
       "#sk-container-id-2 input.sk-toggleable__control:checked~div.sk-toggleable__content {\n",
       "  /* Expand drop-down */\n",
       "  max-height: 200px;\n",
       "  max-width: 100%;\n",
       "  overflow: auto;\n",
       "}\n",
       "\n",
       "#sk-container-id-2 input.sk-toggleable__control:checked~label.sk-toggleable__label-arrow:before {\n",
       "  content: \"▾\";\n",
       "}\n",
       "\n",
       "/* Pipeline/ColumnTransformer-specific style */\n",
       "\n",
       "#sk-container-id-2 div.sk-label input.sk-toggleable__control:checked~label.sk-toggleable__label {\n",
       "  color: var(--sklearn-color-text);\n",
       "  background-color: var(--sklearn-color-unfitted-level-2);\n",
       "}\n",
       "\n",
       "#sk-container-id-2 div.sk-label.fitted input.sk-toggleable__control:checked~label.sk-toggleable__label {\n",
       "  background-color: var(--sklearn-color-fitted-level-2);\n",
       "}\n",
       "\n",
       "/* Estimator-specific style */\n",
       "\n",
       "/* Colorize estimator box */\n",
       "#sk-container-id-2 div.sk-estimator input.sk-toggleable__control:checked~label.sk-toggleable__label {\n",
       "  /* unfitted */\n",
       "  background-color: var(--sklearn-color-unfitted-level-2);\n",
       "}\n",
       "\n",
       "#sk-container-id-2 div.sk-estimator.fitted input.sk-toggleable__control:checked~label.sk-toggleable__label {\n",
       "  /* fitted */\n",
       "  background-color: var(--sklearn-color-fitted-level-2);\n",
       "}\n",
       "\n",
       "#sk-container-id-2 div.sk-label label.sk-toggleable__label,\n",
       "#sk-container-id-2 div.sk-label label {\n",
       "  /* The background is the default theme color */\n",
       "  color: var(--sklearn-color-text-on-default-background);\n",
       "}\n",
       "\n",
       "/* On hover, darken the color of the background */\n",
       "#sk-container-id-2 div.sk-label:hover label.sk-toggleable__label {\n",
       "  color: var(--sklearn-color-text);\n",
       "  background-color: var(--sklearn-color-unfitted-level-2);\n",
       "}\n",
       "\n",
       "/* Label box, darken color on hover, fitted */\n",
       "#sk-container-id-2 div.sk-label.fitted:hover label.sk-toggleable__label.fitted {\n",
       "  color: var(--sklearn-color-text);\n",
       "  background-color: var(--sklearn-color-fitted-level-2);\n",
       "}\n",
       "\n",
       "/* Estimator label */\n",
       "\n",
       "#sk-container-id-2 div.sk-label label {\n",
       "  font-family: monospace;\n",
       "  font-weight: bold;\n",
       "  display: inline-block;\n",
       "  line-height: 1.2em;\n",
       "}\n",
       "\n",
       "#sk-container-id-2 div.sk-label-container {\n",
       "  text-align: center;\n",
       "}\n",
       "\n",
       "/* Estimator-specific */\n",
       "#sk-container-id-2 div.sk-estimator {\n",
       "  font-family: monospace;\n",
       "  border: 1px dotted var(--sklearn-color-border-box);\n",
       "  border-radius: 0.25em;\n",
       "  box-sizing: border-box;\n",
       "  margin-bottom: 0.5em;\n",
       "  /* unfitted */\n",
       "  background-color: var(--sklearn-color-unfitted-level-0);\n",
       "}\n",
       "\n",
       "#sk-container-id-2 div.sk-estimator.fitted {\n",
       "  /* fitted */\n",
       "  background-color: var(--sklearn-color-fitted-level-0);\n",
       "}\n",
       "\n",
       "/* on hover */\n",
       "#sk-container-id-2 div.sk-estimator:hover {\n",
       "  /* unfitted */\n",
       "  background-color: var(--sklearn-color-unfitted-level-2);\n",
       "}\n",
       "\n",
       "#sk-container-id-2 div.sk-estimator.fitted:hover {\n",
       "  /* fitted */\n",
       "  background-color: var(--sklearn-color-fitted-level-2);\n",
       "}\n",
       "\n",
       "/* Specification for estimator info (e.g. \"i\" and \"?\") */\n",
       "\n",
       "/* Common style for \"i\" and \"?\" */\n",
       "\n",
       ".sk-estimator-doc-link,\n",
       "a:link.sk-estimator-doc-link,\n",
       "a:visited.sk-estimator-doc-link {\n",
       "  float: right;\n",
       "  font-size: smaller;\n",
       "  line-height: 1em;\n",
       "  font-family: monospace;\n",
       "  background-color: var(--sklearn-color-background);\n",
       "  border-radius: 1em;\n",
       "  height: 1em;\n",
       "  width: 1em;\n",
       "  text-decoration: none !important;\n",
       "  margin-left: 1ex;\n",
       "  /* unfitted */\n",
       "  border: var(--sklearn-color-unfitted-level-1) 1pt solid;\n",
       "  color: var(--sklearn-color-unfitted-level-1);\n",
       "}\n",
       "\n",
       ".sk-estimator-doc-link.fitted,\n",
       "a:link.sk-estimator-doc-link.fitted,\n",
       "a:visited.sk-estimator-doc-link.fitted {\n",
       "  /* fitted */\n",
       "  border: var(--sklearn-color-fitted-level-1) 1pt solid;\n",
       "  color: var(--sklearn-color-fitted-level-1);\n",
       "}\n",
       "\n",
       "/* On hover */\n",
       "div.sk-estimator:hover .sk-estimator-doc-link:hover,\n",
       ".sk-estimator-doc-link:hover,\n",
       "div.sk-label-container:hover .sk-estimator-doc-link:hover,\n",
       ".sk-estimator-doc-link:hover {\n",
       "  /* unfitted */\n",
       "  background-color: var(--sklearn-color-unfitted-level-3);\n",
       "  color: var(--sklearn-color-background);\n",
       "  text-decoration: none;\n",
       "}\n",
       "\n",
       "div.sk-estimator.fitted:hover .sk-estimator-doc-link.fitted:hover,\n",
       ".sk-estimator-doc-link.fitted:hover,\n",
       "div.sk-label-container:hover .sk-estimator-doc-link.fitted:hover,\n",
       ".sk-estimator-doc-link.fitted:hover {\n",
       "  /* fitted */\n",
       "  background-color: var(--sklearn-color-fitted-level-3);\n",
       "  color: var(--sklearn-color-background);\n",
       "  text-decoration: none;\n",
       "}\n",
       "\n",
       "/* Span, style for the box shown on hovering the info icon */\n",
       ".sk-estimator-doc-link span {\n",
       "  display: none;\n",
       "  z-index: 9999;\n",
       "  position: relative;\n",
       "  font-weight: normal;\n",
       "  right: .2ex;\n",
       "  padding: .5ex;\n",
       "  margin: .5ex;\n",
       "  width: min-content;\n",
       "  min-width: 20ex;\n",
       "  max-width: 50ex;\n",
       "  color: var(--sklearn-color-text);\n",
       "  box-shadow: 2pt 2pt 4pt #999;\n",
       "  /* unfitted */\n",
       "  background: var(--sklearn-color-unfitted-level-0);\n",
       "  border: .5pt solid var(--sklearn-color-unfitted-level-3);\n",
       "}\n",
       "\n",
       ".sk-estimator-doc-link.fitted span {\n",
       "  /* fitted */\n",
       "  background: var(--sklearn-color-fitted-level-0);\n",
       "  border: var(--sklearn-color-fitted-level-3);\n",
       "}\n",
       "\n",
       ".sk-estimator-doc-link:hover span {\n",
       "  display: block;\n",
       "}\n",
       "\n",
       "/* \"?\"-specific style due to the `<a>` HTML tag */\n",
       "\n",
       "#sk-container-id-2 a.estimator_doc_link {\n",
       "  float: right;\n",
       "  font-size: 1rem;\n",
       "  line-height: 1em;\n",
       "  font-family: monospace;\n",
       "  background-color: var(--sklearn-color-background);\n",
       "  border-radius: 1rem;\n",
       "  height: 1rem;\n",
       "  width: 1rem;\n",
       "  text-decoration: none;\n",
       "  /* unfitted */\n",
       "  color: var(--sklearn-color-unfitted-level-1);\n",
       "  border: var(--sklearn-color-unfitted-level-1) 1pt solid;\n",
       "}\n",
       "\n",
       "#sk-container-id-2 a.estimator_doc_link.fitted {\n",
       "  /* fitted */\n",
       "  border: var(--sklearn-color-fitted-level-1) 1pt solid;\n",
       "  color: var(--sklearn-color-fitted-level-1);\n",
       "}\n",
       "\n",
       "/* On hover */\n",
       "#sk-container-id-2 a.estimator_doc_link:hover {\n",
       "  /* unfitted */\n",
       "  background-color: var(--sklearn-color-unfitted-level-3);\n",
       "  color: var(--sklearn-color-background);\n",
       "  text-decoration: none;\n",
       "}\n",
       "\n",
       "#sk-container-id-2 a.estimator_doc_link.fitted:hover {\n",
       "  /* fitted */\n",
       "  background-color: var(--sklearn-color-fitted-level-3);\n",
       "}\n",
       "</style><div id=\"sk-container-id-2\" class=\"sk-top-container\"><div class=\"sk-text-repr-fallback\"><pre>GradientBoostingRegressor(min_samples_leaf=2, min_samples_split=5,\n",
       "                          random_state=42)</pre><b>In a Jupyter environment, please rerun this cell to show the HTML representation or trust the notebook. <br />On GitHub, the HTML representation is unable to render, please try loading this page with nbviewer.org.</b></div><div class=\"sk-container\" hidden><div class=\"sk-item\"><div class=\"sk-estimator fitted sk-toggleable\"><input class=\"sk-toggleable__control sk-hidden--visually\" id=\"sk-estimator-id-2\" type=\"checkbox\" checked><label for=\"sk-estimator-id-2\" class=\"sk-toggleable__label fitted sk-toggleable__label-arrow fitted\">&nbsp;&nbsp;GradientBoostingRegressor<a class=\"sk-estimator-doc-link fitted\" rel=\"noreferrer\" target=\"_blank\" href=\"https://scikit-learn.org/1.4/modules/generated/sklearn.ensemble.GradientBoostingRegressor.html\">?<span>Documentation for GradientBoostingRegressor</span></a><span class=\"sk-estimator-doc-link fitted\">i<span>Fitted</span></span></label><div class=\"sk-toggleable__content fitted\"><pre>GradientBoostingRegressor(min_samples_leaf=2, min_samples_split=5,\n",
       "                          random_state=42)</pre></div> </div></div></div></div>"
      ],
      "text/plain": [
       "GradientBoostingRegressor(min_samples_leaf=2, min_samples_split=5,\n",
       "                          random_state=42)"
      ]
     },
     "execution_count": 65,
     "metadata": {},
     "output_type": "execute_result"
    }
   ],
   "source": [
    "model = GradientBoostingRegressor(\n",
    "    n_estimators=100, \n",
    "    random_state=42,\n",
    "    learning_rate=0.1,\n",
    "    max_depth=3,\n",
    "    min_samples_leaf=2,\n",
    "    min_samples_split=5\n",
    ") #hyper parameters from previous tuning\n",
    "# Fit the model to the training data\n",
    "model.fit(x_train, y_train)"
   ]
  },
  {
   "cell_type": "code",
   "execution_count": 66,
   "metadata": {},
   "outputs": [
    {
     "data": {
      "text/plain": [
       "{'RMSE': 217435.85540287817,\n",
       " 'MAE': 165086.98235524565,\n",
       " 'R2': 0.7028300225903517}"
      ]
     },
     "execution_count": 66,
     "metadata": {},
     "output_type": "execute_result"
    }
   ],
   "source": [
    "y_pred = model.predict(x_test)\n",
    "\n",
    "results = {\n",
    "    \"RMSE\": root_mean_squared_error(y_test, y_pred),\n",
    "    \"MAE\": mean_absolute_error(y_test, y_pred),\n",
    "    \"R2\": r2_score(y_test, y_pred),\n",
    "}\n",
    "results"
   ]
  },
  {
   "cell_type": "code",
   "execution_count": 67,
   "metadata": {},
   "outputs": [
    {
     "data": {
      "text/plain": [
       "0.8295437184783179"
      ]
     },
     "execution_count": 67,
     "metadata": {},
     "output_type": "execute_result"
    }
   ],
   "source": [
    "(current_centres_data[\"ANNUAL_REVENUE\"].median() - results[\"MAE\"]) / (current_centres_data[\"ANNUAL_REVENUE\"].median())"
   ]
  },
  {
   "cell_type": "code",
   "execution_count": 68,
   "metadata": {},
   "outputs": [
    {
     "data": {
      "text/plain": [
       "0.8928646469096029"
      ]
     },
     "execution_count": 68,
     "metadata": {},
     "output_type": "execute_result"
    }
   ],
   "source": [
    "(current_centres_data[\"ANNUAL_REVENUE\"].mean() - results[\"MAE\"]) / (current_centres_data[\"ANNUAL_REVENUE\"].median())"
   ]
  },
  {
   "cell_type": "code",
   "execution_count": 69,
   "metadata": {},
   "outputs": [
    {
     "data": {
      "text/plain": [
       "(968500.432377709, 1029826.7789419665)"
      ]
     },
     "execution_count": 69,
     "metadata": {},
     "output_type": "execute_result"
    }
   ],
   "source": [
    "current_centres_data[\"ANNUAL_REVENUE\"].median(), current_centres_data[\"ANNUAL_REVENUE\"].mean()"
   ]
  },
  {
   "cell_type": "code",
   "execution_count": 70,
   "metadata": {},
   "outputs": [
    {
     "data": {
      "text/plain": [
       "(100, 12)"
      ]
     },
     "execution_count": 70,
     "metadata": {},
     "output_type": "execute_result"
    }
   ],
   "source": [
    "potential_centres = pd.read_excel(\n",
    "    \"data/data.xlsx\",\n",
    "    sheet_name=\"Potential Centres\"\n",
    ")\n",
    "potential_centres.shape"
   ]
  },
  {
   "cell_type": "code",
   "execution_count": 71,
   "metadata": {},
   "outputs": [],
   "source": [
    "potential_centres[\"AREA_AFFLUENCE_GRADE\"] = potential_centres[\"AREA_AFFLUENCE_GRADE\"].map(encoding_map)"
   ]
  },
  {
   "cell_type": "code",
   "execution_count": 72,
   "metadata": {},
   "outputs": [
    {
     "data": {
      "text/plain": [
       "AREA_POPULATION_DENSITY_PPSKM    0\n",
       "AREA_EV_PERC                     0\n",
       "dtype: int64"
      ]
     },
     "execution_count": 72,
     "metadata": {},
     "output_type": "execute_result"
    }
   ],
   "source": [
    "columns_to_impute = [\"AREA_POPULATION_DENSITY_PPSKM\", \"AREA_EV_PERC\"]\n",
    "df_imputed = pd.DataFrame(\n",
    "    imputer.fit_transform(potential_centres[columns_to_impute]), \n",
    "                          columns=columns_to_impute)\n",
    "\n",
    "df_imputed.isnull().sum()"
   ]
  },
  {
   "cell_type": "code",
   "execution_count": 73,
   "metadata": {},
   "outputs": [],
   "source": [
    "potential_centres[columns_to_impute] = df_imputed"
   ]
  },
  {
   "cell_type": "code",
   "execution_count": 74,
   "metadata": {},
   "outputs": [
    {
     "data": {
      "text/html": [
       "<div>\n",
       "<style scoped>\n",
       "    .dataframe tbody tr th:only-of-type {\n",
       "        vertical-align: middle;\n",
       "    }\n",
       "\n",
       "    .dataframe tbody tr th {\n",
       "        vertical-align: top;\n",
       "    }\n",
       "\n",
       "    .dataframe thead th {\n",
       "        text-align: right;\n",
       "    }\n",
       "</style>\n",
       "<table border=\"1\" class=\"dataframe\">\n",
       "  <thead>\n",
       "    <tr style=\"text-align: right;\">\n",
       "      <th></th>\n",
       "      <th>TYRE_BAYS</th>\n",
       "      <th>MOT_BAYS</th>\n",
       "      <th>SERVICE_BAYS</th>\n",
       "      <th>TOTAL_STAFF</th>\n",
       "      <th>AVG_DAILY_STAFF</th>\n",
       "      <th>AVG_SALARY</th>\n",
       "      <th>HOURS_OPEN_PER_WEEK</th>\n",
       "      <th>AREA_EV_PERC</th>\n",
       "      <th>AREA_POPULATION_DENSITY_PPSKM</th>\n",
       "      <th>ANNUAL_RENT</th>\n",
       "      <th>AREA_AFFLUENCE_GRADE</th>\n",
       "    </tr>\n",
       "  </thead>\n",
       "  <tbody>\n",
       "    <tr>\n",
       "      <th>0</th>\n",
       "      <td>0.533574</td>\n",
       "      <td>-0.984977</td>\n",
       "      <td>-1.031786</td>\n",
       "      <td>-0.358171</td>\n",
       "      <td>-1.007374</td>\n",
       "      <td>-3.133494</td>\n",
       "      <td>0.578368</td>\n",
       "      <td>-0.236241</td>\n",
       "      <td>0.599938</td>\n",
       "      <td>0.043144</td>\n",
       "      <td>-0.530220</td>\n",
       "    </tr>\n",
       "    <tr>\n",
       "      <th>1</th>\n",
       "      <td>0.533574</td>\n",
       "      <td>1.015253</td>\n",
       "      <td>0.969193</td>\n",
       "      <td>1.705478</td>\n",
       "      <td>1.138771</td>\n",
       "      <td>-1.646536</td>\n",
       "      <td>0.578368</td>\n",
       "      <td>0.854190</td>\n",
       "      <td>0.445124</td>\n",
       "      <td>1.090081</td>\n",
       "      <td>-0.530220</td>\n",
       "    </tr>\n",
       "    <tr>\n",
       "      <th>2</th>\n",
       "      <td>1.202059</td>\n",
       "      <td>-0.984977</td>\n",
       "      <td>-1.031786</td>\n",
       "      <td>-0.358171</td>\n",
       "      <td>-0.569385</td>\n",
       "      <td>0.362448</td>\n",
       "      <td>1.338933</td>\n",
       "      <td>0.778039</td>\n",
       "      <td>0.352026</td>\n",
       "      <td>0.140400</td>\n",
       "      <td>0.491059</td>\n",
       "    </tr>\n",
       "    <tr>\n",
       "      <th>3</th>\n",
       "      <td>-0.803396</td>\n",
       "      <td>1.015253</td>\n",
       "      <td>0.969193</td>\n",
       "      <td>0.329712</td>\n",
       "      <td>0.306592</td>\n",
       "      <td>-0.563267</td>\n",
       "      <td>1.338933</td>\n",
       "      <td>-1.749091</td>\n",
       "      <td>-1.038250</td>\n",
       "      <td>-1.318446</td>\n",
       "      <td>2.533615</td>\n",
       "    </tr>\n",
       "    <tr>\n",
       "      <th>4</th>\n",
       "      <td>0.533574</td>\n",
       "      <td>1.015253</td>\n",
       "      <td>-1.031786</td>\n",
       "      <td>0.329712</td>\n",
       "      <td>-0.306592</td>\n",
       "      <td>-0.418561</td>\n",
       "      <td>1.338933</td>\n",
       "      <td>0.817580</td>\n",
       "      <td>0.206294</td>\n",
       "      <td>0.798311</td>\n",
       "      <td>-0.530220</td>\n",
       "    </tr>\n",
       "  </tbody>\n",
       "</table>\n",
       "</div>"
      ],
      "text/plain": [
       "   TYRE_BAYS  MOT_BAYS  SERVICE_BAYS  TOTAL_STAFF  AVG_DAILY_STAFF  \\\n",
       "0   0.533574 -0.984977     -1.031786    -0.358171        -1.007374   \n",
       "1   0.533574  1.015253      0.969193     1.705478         1.138771   \n",
       "2   1.202059 -0.984977     -1.031786    -0.358171        -0.569385   \n",
       "3  -0.803396  1.015253      0.969193     0.329712         0.306592   \n",
       "4   0.533574  1.015253     -1.031786     0.329712        -0.306592   \n",
       "\n",
       "   AVG_SALARY  HOURS_OPEN_PER_WEEK  AREA_EV_PERC  \\\n",
       "0   -3.133494             0.578368     -0.236241   \n",
       "1   -1.646536             0.578368      0.854190   \n",
       "2    0.362448             1.338933      0.778039   \n",
       "3   -0.563267             1.338933     -1.749091   \n",
       "4   -0.418561             1.338933      0.817580   \n",
       "\n",
       "   AREA_POPULATION_DENSITY_PPSKM  ANNUAL_RENT  AREA_AFFLUENCE_GRADE  \n",
       "0                       0.599938     0.043144             -0.530220  \n",
       "1                       0.445124     1.090081             -0.530220  \n",
       "2                       0.352026     0.140400              0.491059  \n",
       "3                      -1.038250    -1.318446              2.533615  \n",
       "4                       0.206294     0.798311             -0.530220  "
      ]
     },
     "execution_count": 74,
     "metadata": {},
     "output_type": "execute_result"
    }
   ],
   "source": [
    "potential_centres_scaled = scaler.transform(potential_centres[columns_to_treat_outliers])\n",
    "potential_centres_scaled = pd.DataFrame(\n",
    "    potential_centres_scaled, columns=columns_to_treat_outliers)\n",
    "potential_centres_scaled.head()"
   ]
  },
  {
   "cell_type": "code",
   "execution_count": 75,
   "metadata": {},
   "outputs": [],
   "source": [
    "predictions = model.predict(potential_centres_scaled)\n",
    "potential_centres[\"predictions\"] = predictions"
   ]
  },
  {
   "cell_type": "code",
   "execution_count": 76,
   "metadata": {},
   "outputs": [
    {
     "data": {
      "text/html": [
       "<div>\n",
       "<style scoped>\n",
       "    .dataframe tbody tr th:only-of-type {\n",
       "        vertical-align: middle;\n",
       "    }\n",
       "\n",
       "    .dataframe tbody tr th {\n",
       "        vertical-align: top;\n",
       "    }\n",
       "\n",
       "    .dataframe thead th {\n",
       "        text-align: right;\n",
       "    }\n",
       "</style>\n",
       "<table border=\"1\" class=\"dataframe\">\n",
       "  <thead>\n",
       "    <tr style=\"text-align: right;\">\n",
       "      <th></th>\n",
       "      <th>CENTRE_NO</th>\n",
       "      <th>TYRE_BAYS</th>\n",
       "      <th>MOT_BAYS</th>\n",
       "      <th>SERVICE_BAYS</th>\n",
       "      <th>TOTAL_STAFF</th>\n",
       "      <th>AVG_DAILY_STAFF</th>\n",
       "      <th>AVG_SALARY</th>\n",
       "      <th>HOURS_OPEN_PER_WEEK</th>\n",
       "      <th>AREA_EV_PERC</th>\n",
       "      <th>AREA_POPULATION_DENSITY_PPSKM</th>\n",
       "      <th>ANNUAL_RENT</th>\n",
       "      <th>AREA_AFFLUENCE_GRADE</th>\n",
       "      <th>predictions</th>\n",
       "    </tr>\n",
       "  </thead>\n",
       "  <tbody>\n",
       "    <tr>\n",
       "      <th>0</th>\n",
       "      <td>58</td>\n",
       "      <td>5</td>\n",
       "      <td>0</td>\n",
       "      <td>1</td>\n",
       "      <td>9</td>\n",
       "      <td>4.7</td>\n",
       "      <td>24366</td>\n",
       "      <td>58.5</td>\n",
       "      <td>3.830469</td>\n",
       "      <td>2241.900879</td>\n",
       "      <td>51400</td>\n",
       "      <td>3</td>\n",
       "      <td>9.449108e+05</td>\n",
       "    </tr>\n",
       "    <tr>\n",
       "      <th>1</th>\n",
       "      <td>74</td>\n",
       "      <td>5</td>\n",
       "      <td>1</td>\n",
       "      <td>2</td>\n",
       "      <td>15</td>\n",
       "      <td>9.6</td>\n",
       "      <td>26565</td>\n",
       "      <td>58.5</td>\n",
       "      <td>4.628830</td>\n",
       "      <td>2092.164975</td>\n",
       "      <td>69700</td>\n",
       "      <td>3</td>\n",
       "      <td>1.832928e+06</td>\n",
       "    </tr>\n",
       "    <tr>\n",
       "      <th>2</th>\n",
       "      <td>23</td>\n",
       "      <td>6</td>\n",
       "      <td>0</td>\n",
       "      <td>1</td>\n",
       "      <td>9</td>\n",
       "      <td>5.7</td>\n",
       "      <td>29536</td>\n",
       "      <td>61.0</td>\n",
       "      <td>4.573076</td>\n",
       "      <td>2002.121410</td>\n",
       "      <td>53100</td>\n",
       "      <td>4</td>\n",
       "      <td>9.817020e+05</td>\n",
       "    </tr>\n",
       "    <tr>\n",
       "      <th>3</th>\n",
       "      <td>33</td>\n",
       "      <td>3</td>\n",
       "      <td>1</td>\n",
       "      <td>2</td>\n",
       "      <td>11</td>\n",
       "      <td>7.7</td>\n",
       "      <td>28167</td>\n",
       "      <td>61.0</td>\n",
       "      <td>2.722832</td>\n",
       "      <td>657.454164</td>\n",
       "      <td>27600</td>\n",
       "      <td>6</td>\n",
       "      <td>1.144088e+06</td>\n",
       "    </tr>\n",
       "    <tr>\n",
       "      <th>4</th>\n",
       "      <td>94</td>\n",
       "      <td>5</td>\n",
       "      <td>1</td>\n",
       "      <td>1</td>\n",
       "      <td>11</td>\n",
       "      <td>6.3</td>\n",
       "      <td>28381</td>\n",
       "      <td>61.0</td>\n",
       "      <td>4.602026</td>\n",
       "      <td>1861.169972</td>\n",
       "      <td>64600</td>\n",
       "      <td>3</td>\n",
       "      <td>1.265267e+06</td>\n",
       "    </tr>\n",
       "  </tbody>\n",
       "</table>\n",
       "</div>"
      ],
      "text/plain": [
       "   CENTRE_NO  TYRE_BAYS  MOT_BAYS  SERVICE_BAYS  TOTAL_STAFF  AVG_DAILY_STAFF  \\\n",
       "0         58          5         0             1            9              4.7   \n",
       "1         74          5         1             2           15              9.6   \n",
       "2         23          6         0             1            9              5.7   \n",
       "3         33          3         1             2           11              7.7   \n",
       "4         94          5         1             1           11              6.3   \n",
       "\n",
       "   AVG_SALARY  HOURS_OPEN_PER_WEEK  AREA_EV_PERC  \\\n",
       "0       24366                 58.5      3.830469   \n",
       "1       26565                 58.5      4.628830   \n",
       "2       29536                 61.0      4.573076   \n",
       "3       28167                 61.0      2.722832   \n",
       "4       28381                 61.0      4.602026   \n",
       "\n",
       "   AREA_POPULATION_DENSITY_PPSKM  ANNUAL_RENT  AREA_AFFLUENCE_GRADE  \\\n",
       "0                    2241.900879        51400                     3   \n",
       "1                    2092.164975        69700                     3   \n",
       "2                    2002.121410        53100                     4   \n",
       "3                     657.454164        27600                     6   \n",
       "4                    1861.169972        64600                     3   \n",
       "\n",
       "    predictions  \n",
       "0  9.449108e+05  \n",
       "1  1.832928e+06  \n",
       "2  9.817020e+05  \n",
       "3  1.144088e+06  \n",
       "4  1.265267e+06  "
      ]
     },
     "execution_count": 76,
     "metadata": {},
     "output_type": "execute_result"
    }
   ],
   "source": [
    "potential_centres.head()"
   ]
  },
  {
   "cell_type": "code",
   "execution_count": 77,
   "metadata": {},
   "outputs": [
    {
     "data": {
      "text/html": [
       "<div>\n",
       "<style scoped>\n",
       "    .dataframe tbody tr th:only-of-type {\n",
       "        vertical-align: middle;\n",
       "    }\n",
       "\n",
       "    .dataframe tbody tr th {\n",
       "        vertical-align: top;\n",
       "    }\n",
       "\n",
       "    .dataframe thead th {\n",
       "        text-align: right;\n",
       "    }\n",
       "</style>\n",
       "<table border=\"1\" class=\"dataframe\">\n",
       "  <thead>\n",
       "    <tr style=\"text-align: right;\">\n",
       "      <th></th>\n",
       "      <th>CENTRE_NO</th>\n",
       "      <th>TYRE_BAYS</th>\n",
       "      <th>MOT_BAYS</th>\n",
       "      <th>SERVICE_BAYS</th>\n",
       "      <th>TOTAL_STAFF</th>\n",
       "      <th>AVG_DAILY_STAFF</th>\n",
       "      <th>AVG_SALARY</th>\n",
       "      <th>HOURS_OPEN_PER_WEEK</th>\n",
       "      <th>AREA_EV_PERC</th>\n",
       "      <th>AREA_POPULATION_DENSITY_PPSKM</th>\n",
       "      <th>ANNUAL_RENT</th>\n",
       "      <th>AREA_AFFLUENCE_GRADE</th>\n",
       "      <th>predictions</th>\n",
       "    </tr>\n",
       "  </thead>\n",
       "  <tbody>\n",
       "    <tr>\n",
       "      <th>1</th>\n",
       "      <td>74</td>\n",
       "      <td>5</td>\n",
       "      <td>1</td>\n",
       "      <td>2</td>\n",
       "      <td>15</td>\n",
       "      <td>9.6</td>\n",
       "      <td>26565</td>\n",
       "      <td>58.5</td>\n",
       "      <td>4.628830</td>\n",
       "      <td>2092.164975</td>\n",
       "      <td>69700</td>\n",
       "      <td>3</td>\n",
       "      <td>1.832928e+06</td>\n",
       "    </tr>\n",
       "    <tr>\n",
       "      <th>99</th>\n",
       "      <td>79</td>\n",
       "      <td>6</td>\n",
       "      <td>1</td>\n",
       "      <td>2</td>\n",
       "      <td>13</td>\n",
       "      <td>8.6</td>\n",
       "      <td>29294</td>\n",
       "      <td>58.5</td>\n",
       "      <td>4.461708</td>\n",
       "      <td>2839.099762</td>\n",
       "      <td>80700</td>\n",
       "      <td>3</td>\n",
       "      <td>1.809764e+06</td>\n",
       "    </tr>\n",
       "    <tr>\n",
       "      <th>67</th>\n",
       "      <td>91</td>\n",
       "      <td>8</td>\n",
       "      <td>1</td>\n",
       "      <td>2</td>\n",
       "      <td>18</td>\n",
       "      <td>10.1</td>\n",
       "      <td>29505</td>\n",
       "      <td>55.0</td>\n",
       "      <td>4.698264</td>\n",
       "      <td>1029.507564</td>\n",
       "      <td>101000</td>\n",
       "      <td>3</td>\n",
       "      <td>1.699816e+06</td>\n",
       "    </tr>\n",
       "    <tr>\n",
       "      <th>79</th>\n",
       "      <td>73</td>\n",
       "      <td>6</td>\n",
       "      <td>1</td>\n",
       "      <td>2</td>\n",
       "      <td>14</td>\n",
       "      <td>12.2</td>\n",
       "      <td>26487</td>\n",
       "      <td>58.5</td>\n",
       "      <td>3.911999</td>\n",
       "      <td>802.490827</td>\n",
       "      <td>66400</td>\n",
       "      <td>4</td>\n",
       "      <td>1.695460e+06</td>\n",
       "    </tr>\n",
       "    <tr>\n",
       "      <th>35</th>\n",
       "      <td>71</td>\n",
       "      <td>6</td>\n",
       "      <td>1</td>\n",
       "      <td>2</td>\n",
       "      <td>16</td>\n",
       "      <td>11.0</td>\n",
       "      <td>25602</td>\n",
       "      <td>52.5</td>\n",
       "      <td>3.968279</td>\n",
       "      <td>1571.738470</td>\n",
       "      <td>93900</td>\n",
       "      <td>2</td>\n",
       "      <td>1.661044e+06</td>\n",
       "    </tr>\n",
       "    <tr>\n",
       "      <th>40</th>\n",
       "      <td>61</td>\n",
       "      <td>4</td>\n",
       "      <td>1</td>\n",
       "      <td>2</td>\n",
       "      <td>11</td>\n",
       "      <td>5.8</td>\n",
       "      <td>29911</td>\n",
       "      <td>61.0</td>\n",
       "      <td>4.691694</td>\n",
       "      <td>1281.759961</td>\n",
       "      <td>67900</td>\n",
       "      <td>3</td>\n",
       "      <td>1.608195e+06</td>\n",
       "    </tr>\n",
       "    <tr>\n",
       "      <th>74</th>\n",
       "      <td>3</td>\n",
       "      <td>6</td>\n",
       "      <td>1</td>\n",
       "      <td>2</td>\n",
       "      <td>15</td>\n",
       "      <td>10.6</td>\n",
       "      <td>25363</td>\n",
       "      <td>52.5</td>\n",
       "      <td>5.069784</td>\n",
       "      <td>742.368208</td>\n",
       "      <td>69900</td>\n",
       "      <td>4</td>\n",
       "      <td>1.607240e+06</td>\n",
       "    </tr>\n",
       "    <tr>\n",
       "      <th>69</th>\n",
       "      <td>43</td>\n",
       "      <td>5</td>\n",
       "      <td>1</td>\n",
       "      <td>2</td>\n",
       "      <td>14</td>\n",
       "      <td>7.6</td>\n",
       "      <td>27160</td>\n",
       "      <td>52.5</td>\n",
       "      <td>4.959062</td>\n",
       "      <td>3795.174720</td>\n",
       "      <td>85900</td>\n",
       "      <td>2</td>\n",
       "      <td>1.603905e+06</td>\n",
       "    </tr>\n",
       "    <tr>\n",
       "      <th>48</th>\n",
       "      <td>85</td>\n",
       "      <td>4</td>\n",
       "      <td>1</td>\n",
       "      <td>2</td>\n",
       "      <td>11</td>\n",
       "      <td>7.3</td>\n",
       "      <td>30276</td>\n",
       "      <td>61.0</td>\n",
       "      <td>4.176372</td>\n",
       "      <td>3097.013569</td>\n",
       "      <td>47600</td>\n",
       "      <td>4</td>\n",
       "      <td>1.576378e+06</td>\n",
       "    </tr>\n",
       "    <tr>\n",
       "      <th>5</th>\n",
       "      <td>63</td>\n",
       "      <td>5</td>\n",
       "      <td>1</td>\n",
       "      <td>2</td>\n",
       "      <td>12</td>\n",
       "      <td>8.3</td>\n",
       "      <td>26228</td>\n",
       "      <td>55.0</td>\n",
       "      <td>5.431028</td>\n",
       "      <td>6345.249702</td>\n",
       "      <td>96400</td>\n",
       "      <td>2</td>\n",
       "      <td>1.555260e+06</td>\n",
       "    </tr>\n",
       "  </tbody>\n",
       "</table>\n",
       "</div>"
      ],
      "text/plain": [
       "    CENTRE_NO  TYRE_BAYS  MOT_BAYS  SERVICE_BAYS  TOTAL_STAFF  \\\n",
       "1          74          5         1             2           15   \n",
       "99         79          6         1             2           13   \n",
       "67         91          8         1             2           18   \n",
       "79         73          6         1             2           14   \n",
       "35         71          6         1             2           16   \n",
       "40         61          4         1             2           11   \n",
       "74          3          6         1             2           15   \n",
       "69         43          5         1             2           14   \n",
       "48         85          4         1             2           11   \n",
       "5          63          5         1             2           12   \n",
       "\n",
       "    AVG_DAILY_STAFF  AVG_SALARY  HOURS_OPEN_PER_WEEK  AREA_EV_PERC  \\\n",
       "1               9.6       26565                 58.5      4.628830   \n",
       "99              8.6       29294                 58.5      4.461708   \n",
       "67             10.1       29505                 55.0      4.698264   \n",
       "79             12.2       26487                 58.5      3.911999   \n",
       "35             11.0       25602                 52.5      3.968279   \n",
       "40              5.8       29911                 61.0      4.691694   \n",
       "74             10.6       25363                 52.5      5.069784   \n",
       "69              7.6       27160                 52.5      4.959062   \n",
       "48              7.3       30276                 61.0      4.176372   \n",
       "5               8.3       26228                 55.0      5.431028   \n",
       "\n",
       "    AREA_POPULATION_DENSITY_PPSKM  ANNUAL_RENT  AREA_AFFLUENCE_GRADE  \\\n",
       "1                     2092.164975        69700                     3   \n",
       "99                    2839.099762        80700                     3   \n",
       "67                    1029.507564       101000                     3   \n",
       "79                     802.490827        66400                     4   \n",
       "35                    1571.738470        93900                     2   \n",
       "40                    1281.759961        67900                     3   \n",
       "74                     742.368208        69900                     4   \n",
       "69                    3795.174720        85900                     2   \n",
       "48                    3097.013569        47600                     4   \n",
       "5                     6345.249702        96400                     2   \n",
       "\n",
       "     predictions  \n",
       "1   1.832928e+06  \n",
       "99  1.809764e+06  \n",
       "67  1.699816e+06  \n",
       "79  1.695460e+06  \n",
       "35  1.661044e+06  \n",
       "40  1.608195e+06  \n",
       "74  1.607240e+06  \n",
       "69  1.603905e+06  \n",
       "48  1.576378e+06  \n",
       "5   1.555260e+06  "
      ]
     },
     "execution_count": 77,
     "metadata": {},
     "output_type": "execute_result"
    }
   ],
   "source": [
    "potential_centres.sort_values(\"predictions\", ascending=False).head(10)"
   ]
  },
  {
   "cell_type": "code",
   "execution_count": 81,
   "metadata": {},
   "outputs": [
    {
     "data": {
      "image/png": "[encoded data removed]",
      "text/plain": [
       "<Figure size 640x480 with 1 Axes>"
      ]
     },
     "metadata": {},
     "output_type": "display_data"
    }
   ],
   "source": [
    "sns.histplot(x=\"predictions\", \n",
    "             data=potential_centres, color=\"blue\", alpha=0.5, label=\"Potential\", kde=True)\n",
    "sns.histplot(x=\"ANNUAL_REVENUE\", \n",
    "             data=current_centres_data, color=\"pink\", alpha=0.5, label=\"Current\", kde=True)\n",
    "plt.xlabel(\"Revenue\")\n",
    "plt.legend(title=\"Datasets\")\n",
    "plt.show()"
   ]
  },
  {
   "cell_type": "code",
   "execution_count": null,
   "metadata": {},
   "outputs": [],
   "source": []
  }
 ],
 "metadata": {
  "kernelspec": {
   "display_name": "py311",
   "language": "python",
   "name": "python3"
  },
  "language_info": {
   "codemirror_mode": {
    "name": "ipython",
    "version": 3
   },
   "file_extension": ".py",
   "mimetype": "text/x-python",
   "name": "python",
   "nbconvert_exporter": "python",
   "pygments_lexer": "ipython3",
   "version": "3.11.0"
  }
 },
 "nbformat": 4,
 "nbformat_minor": 2
}
